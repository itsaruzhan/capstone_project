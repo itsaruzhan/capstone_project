{
 "cells": [
  {
   "cell_type": "code",
   "execution_count": 1,
   "id": "c8f751e2",
   "metadata": {},
   "outputs": [],
   "source": [
    "import requests\n",
    "from bs4 import BeautifulSoup\n",
    "import pandas as pd\n",
    "import requests\n",
    "from time import sleep\n",
    "from random import randint\n",
    "import time\n",
    "from selenium import webdriver\n",
    "from urllib.parse import urljoin"
   ]
  },
  {
   "cell_type": "code",
   "execution_count": 8,
   "id": "088ccbc2",
   "metadata": {},
   "outputs": [],
   "source": [
    "##### Web scrapper for infinite scrolling page #####\n",
    "def scraper(url, scroll_time):\n",
    "    driver = webdriver.Chrome(executable_path=r\"E:\\Chromedriver\\chromedriver_win32_chrome83\\chromedriver.exe\")\n",
    "    driver.get(url)\n",
    "    time.sleep(2)  # Allow 2 seconds for the web page to open\n",
    "    scroll_pause_time = 2\n",
    "    screen_height = driver.execute_script(\"return window.screen.height;\")   # get the screen height of the web\n",
    "    i = 1\n",
    "    needed_class_tag = \"article-preview-mixed article-preview-mixed--secondary article-preview-mixed--with-absolute-secondary-item js-article-link\"\n",
    "\n",
    "    while i<scroll_time:\n",
    "        # scroll one screen height each time\n",
    "        driver.execute_script(\"window.scrollTo(0, {screen_height}*{i});\".format(screen_height=screen_height, i=i))  \n",
    "        i += 1\n",
    "        time.sleep(scroll_pause_time)\n",
    "        # update scroll height each time after scrolled, as the scroll height can change after we scrolled the page\n",
    "        scroll_height = driver.execute_script(\"return document.body.scrollHeight;\")  \n",
    "        # Break the loop when the height we need to scroll to is larger than the total scroll height\n",
    "        if (screen_height) * i > scroll_height:\n",
    "            break \n",
    "\n",
    "    ##### Extract Nur.kz URLs #####\n",
    "    urls = []\n",
    "    soup = BeautifulSoup(driver.page_source, \"html.parser\")\n",
    "    for a_tag in soup.find_all(\"a\", {\"class\":  needed_class_tag}):\n",
    "        link = a_tag.attrs['href']\n",
    "        urls.append(link)\n",
    "  \n",
    "    return urls    "
   ]
  },
  {
   "cell_type": "code",
   "execution_count": 33,
   "id": "709cf227",
   "metadata": {},
   "outputs": [
    {
     "name": "stderr",
     "output_type": "stream",
     "text": [
      "C:\\Users\\anarb\\AppData\\Local\\Temp\\ipykernel_15100\\187362017.py:3: DeprecationWarning: executable_path has been deprecated, please pass in a Service object\n",
      "  driver = webdriver.Chrome(executable_path=r\"E:\\Chromedriver\\chromedriver_win32_chrome83\\chromedriver.exe\")\n"
     ]
    },
    {
     "name": "stdout",
     "output_type": "stream",
     "text": [
      "Politics news scraped. Number of news: 840\n",
      "World news scraped. Number of news: 900\n",
      "Society news scraped. Number of news: 900\n"
     ]
    }
   ],
   "source": [
    "f_links = scraper(\"https://www.nur.kz/nurfin/all/\", 100)\n",
    "print(\"Finance news scraped. Number of news: \" + str(len(finance)))\n",
    "p_links = scraper(\"https://www.nur.kz/politics/\", 100)\n",
    "print(\"Politics news scraped. Number of news: \" + str(len(politics)))\n",
    "w_links = scraper(\"https://www.nur.kz/world/\", 100)\n",
    "print(\"World news scraped. Number of news: \" + str(len(world)))\n",
    "s_links = scraper(\"https://www.nur.kz/society/\",100)\n",
    "print(\"Society news scraped. Number of news: \" + str(len(society)))\n"
   ]
  },
  {
   "cell_type": "code",
   "execution_count": 9,
   "id": "932e2c78",
   "metadata": {},
   "outputs": [],
   "source": [
    "def get_news(links, category):\n",
    "    column_names = [\"text\",\"category\"]\n",
    "    news = pd.DataFrame(columns = column_names)\n",
    "    for link in links:\n",
    "        response = requests.get(link)\n",
    "        sleep(randint(1, 3))\n",
    "        soup = BeautifulSoup(response.text, 'lxml')\n",
    "        text = \"\"\n",
    "        for item in soup.find_all(\"p\",{\"class\": \"align-left formatted-body__paragraph\" }):\n",
    "            text = text + item.text\n",
    "        news.loc[len(news.index)] = [text, category]      \n",
    "    return news\n"
   ]
  },
  {
   "cell_type": "code",
   "execution_count": 64,
   "id": "1060f3ed",
   "metadata": {},
   "outputs": [
    {
     "name": "stdout",
     "output_type": "stream",
     "text": [
      "\n"
     ]
    }
   ],
   "source": [
    "politics = get_news(politics, \"Politics\")\n",
    "finance = get_news(finance, \"Finance\")\n",
    "world = get_news(world, \"World\")\n",
    "society = get_news(society, \"Society\")"
   ]
  },
  {
   "cell_type": "code",
   "execution_count": 2,
   "id": "7cb6cfa9",
   "metadata": {},
   "outputs": [],
   "source": [
    "politics = pd.read_csv('politics.csv')\n",
    "finance = pd.read_csv('finance.csv')\n",
    "society = pd.read_csv('society.csv')\n",
    "world = pd.read_csv('world.csv')"
   ]
  },
  {
   "cell_type": "code",
   "execution_count": 11,
   "id": "43e23d7c",
   "metadata": {},
   "outputs": [],
   "source": [
    "df= pd.DataFrame({\"text\": politics['text'], \"label\":1 })\n",
    "df = pd.concat([df, pd.DataFrame({\"text\": finance['text'], \"label\":2 })],ignore_index=True)\n",
    "df = pd.concat([df, pd.DataFrame({\"text\": society['text'], \"label\":3 })],ignore_index=True)\n",
    "df = pd.concat([df, pd.DataFrame({\"text\": world['text'], \"label\":4 })],ignore_index=True)"
   ]
  },
  {
   "cell_type": "code",
   "execution_count": 12,
   "id": "281a0821",
   "metadata": {},
   "outputs": [
    {
     "data": {
      "text/html": [
       "<div>\n",
       "<style scoped>\n",
       "    .dataframe tbody tr th:only-of-type {\n",
       "        vertical-align: middle;\n",
       "    }\n",
       "\n",
       "    .dataframe tbody tr th {\n",
       "        vertical-align: top;\n",
       "    }\n",
       "\n",
       "    .dataframe thead th {\n",
       "        text-align: right;\n",
       "    }\n",
       "</style>\n",
       "<table border=\"1\" class=\"dataframe\">\n",
       "  <thead>\n",
       "    <tr style=\"text-align: right;\">\n",
       "      <th></th>\n",
       "      <th>text</th>\n",
       "      <th>label</th>\n",
       "    </tr>\n",
       "  </thead>\n",
       "  <tbody>\n",
       "    <tr>\n",
       "      <th>0</th>\n",
       "      <td>Консульство Словацкой Республики открыли в Алм...</td>\n",
       "      <td>1</td>\n",
       "    </tr>\n",
       "    <tr>\n",
       "      <th>1</th>\n",
       "      <td>Отгрузка казахстанской нефти началась из турец...</td>\n",
       "      <td>1</td>\n",
       "    </tr>\n",
       "    <tr>\n",
       "      <th>2</th>\n",
       "      <td>Главы государств и международных организаций н...</td>\n",
       "      <td>1</td>\n",
       "    </tr>\n",
       "    <tr>\n",
       "      <th>3</th>\n",
       "      <td>Вопросы привлечения отечественных производител...</td>\n",
       "      <td>1</td>\n",
       "    </tr>\n",
       "    <tr>\n",
       "      <th>4</th>\n",
       "      <td>Согласно итогам дневных торгов на Казахстанско...</td>\n",
       "      <td>1</td>\n",
       "    </tr>\n",
       "    <tr>\n",
       "      <th>...</th>\n",
       "      <td>...</td>\n",
       "      <td>...</td>\n",
       "    </tr>\n",
       "    <tr>\n",
       "      <th>3475</th>\n",
       "      <td>Сильное землетрясение в окрестностях города Га...</td>\n",
       "      <td>4</td>\n",
       "    </tr>\n",
       "    <tr>\n",
       "      <th>3476</th>\n",
       "      <td>Руководитель отдела земельных отношений Майско...</td>\n",
       "      <td>4</td>\n",
       "    </tr>\n",
       "    <tr>\n",
       "      <th>3477</th>\n",
       "      <td>Посольство Казахстана в Турции на своей официа...</td>\n",
       "      <td>4</td>\n",
       "    </tr>\n",
       "    <tr>\n",
       "      <th>3478</th>\n",
       "      <td>На брифинге в правительстве глава Минсельхоза ...</td>\n",
       "      <td>4</td>\n",
       "    </tr>\n",
       "    <tr>\n",
       "      <th>3479</th>\n",
       "      <td>На заседании правительства премьер-министр Али...</td>\n",
       "      <td>4</td>\n",
       "    </tr>\n",
       "  </tbody>\n",
       "</table>\n",
       "<p>3480 rows × 2 columns</p>\n",
       "</div>"
      ],
      "text/plain": [
       "                                                   text  label\n",
       "0     Консульство Словацкой Республики открыли в Алм...      1\n",
       "1     Отгрузка казахстанской нефти началась из турец...      1\n",
       "2     Главы государств и международных организаций н...      1\n",
       "3     Вопросы привлечения отечественных производител...      1\n",
       "4     Согласно итогам дневных торгов на Казахстанско...      1\n",
       "...                                                 ...    ...\n",
       "3475  Сильное землетрясение в окрестностях города Га...      4\n",
       "3476  Руководитель отдела земельных отношений Майско...      4\n",
       "3477  Посольство Казахстана в Турции на своей официа...      4\n",
       "3478  На брифинге в правительстве глава Минсельхоза ...      4\n",
       "3479  На заседании правительства премьер-министр Али...      4\n",
       "\n",
       "[3480 rows x 2 columns]"
      ]
     },
     "execution_count": 12,
     "metadata": {},
     "output_type": "execute_result"
    }
   ],
   "source": [
    "df"
   ]
  },
  {
   "cell_type": "code",
   "execution_count": 13,
   "id": "5a4dcdd3",
   "metadata": {},
   "outputs": [],
   "source": [
    "import itertools\n",
    "from nltk.stem import WordNetLemmatizer\n",
    "from autocorrect import Speller\n",
    "import string\n",
    "from nltk.corpus import stopwords\n",
    "import re\n",
    "\n",
    "def text_clean(text):        \n",
    "    text = text.lower() \n",
    "    text = re.sub('https?://\\S+|www\\.\\S+', '', text) \n",
    "    text = re.sub(r\"\\b\\d+\\b\", \"\", text) \n",
    "    text = re.sub('<.*?>+', '', text) \n",
    "    text = re.sub('[%s]' % re.escape(string.punctuation), '', text) \n",
    "    text = re.sub('\\n', '', text)\n",
    "    text = re.sub('[’“”…]', '', text)\n",
    "    text = re.sub('–', '', text)   \n",
    "    return text\n",
    "\n",
    "def delete_stopwords(text):\n",
    "    stop_words = set(stopwords.words('russian'))\n",
    "    return ' '.join([word for word in text.split() if word not in (stop_words)])\n",
    "\n"
   ]
  },
  {
   "cell_type": "code",
   "execution_count": 14,
   "id": "ada4ef47",
   "metadata": {},
   "outputs": [],
   "source": [
    "df['text'] = df['text'].apply(lambda text: text_clean(str(text)))\n",
    "df['text'] = df['text'].apply(lambda text: delete_stopwords(str(text)))"
   ]
  },
  {
   "cell_type": "code",
   "execution_count": 15,
   "id": "84261fa7",
   "metadata": {},
   "outputs": [
    {
     "data": {
      "text/html": [
       "<div>\n",
       "<style scoped>\n",
       "    .dataframe tbody tr th:only-of-type {\n",
       "        vertical-align: middle;\n",
       "    }\n",
       "\n",
       "    .dataframe tbody tr th {\n",
       "        vertical-align: top;\n",
       "    }\n",
       "\n",
       "    .dataframe thead th {\n",
       "        text-align: right;\n",
       "    }\n",
       "</style>\n",
       "<table border=\"1\" class=\"dataframe\">\n",
       "  <thead>\n",
       "    <tr style=\"text-align: right;\">\n",
       "      <th></th>\n",
       "      <th>text</th>\n",
       "      <th>label</th>\n",
       "    </tr>\n",
       "  </thead>\n",
       "  <tbody>\n",
       "    <tr>\n",
       "      <th>0</th>\n",
       "      <td>консульство словацкой республики открыли алмат...</td>\n",
       "      <td>1</td>\n",
       "    </tr>\n",
       "    <tr>\n",
       "      <th>1</th>\n",
       "      <td>отгрузка казахстанской нефти началась турецког...</td>\n",
       "      <td>1</td>\n",
       "    </tr>\n",
       "    <tr>\n",
       "      <th>2</th>\n",
       "      <td>главы государств международных организаций нап...</td>\n",
       "      <td>1</td>\n",
       "    </tr>\n",
       "    <tr>\n",
       "      <th>3</th>\n",
       "      <td>вопросы привлечения отечественных производител...</td>\n",
       "      <td>1</td>\n",
       "    </tr>\n",
       "    <tr>\n",
       "      <th>4</th>\n",
       "      <td>согласно итогам дневных торгов казахстанской ф...</td>\n",
       "      <td>1</td>\n",
       "    </tr>\n",
       "    <tr>\n",
       "      <th>...</th>\n",
       "      <td>...</td>\n",
       "      <td>...</td>\n",
       "    </tr>\n",
       "    <tr>\n",
       "      <th>3475</th>\n",
       "      <td>сильное землетрясение окрестностях города гази...</td>\n",
       "      <td>4</td>\n",
       "    </tr>\n",
       "    <tr>\n",
       "      <th>3476</th>\n",
       "      <td>руководитель отдела земельных отношений майско...</td>\n",
       "      <td>4</td>\n",
       "    </tr>\n",
       "    <tr>\n",
       "      <th>3477</th>\n",
       "      <td>посольство казахстана турции своей официальной...</td>\n",
       "      <td>4</td>\n",
       "    </tr>\n",
       "    <tr>\n",
       "      <th>3478</th>\n",
       "      <td>брифинге правительстве глава минсельхоза объяс...</td>\n",
       "      <td>4</td>\n",
       "    </tr>\n",
       "    <tr>\n",
       "      <th>3479</th>\n",
       "      <td>заседании правительства премьерминистр алихан ...</td>\n",
       "      <td>4</td>\n",
       "    </tr>\n",
       "  </tbody>\n",
       "</table>\n",
       "<p>3480 rows × 2 columns</p>\n",
       "</div>"
      ],
      "text/plain": [
       "                                                   text  label\n",
       "0     консульство словацкой республики открыли алмат...      1\n",
       "1     отгрузка казахстанской нефти началась турецког...      1\n",
       "2     главы государств международных организаций нап...      1\n",
       "3     вопросы привлечения отечественных производител...      1\n",
       "4     согласно итогам дневных торгов казахстанской ф...      1\n",
       "...                                                 ...    ...\n",
       "3475  сильное землетрясение окрестностях города гази...      4\n",
       "3476  руководитель отдела земельных отношений майско...      4\n",
       "3477  посольство казахстана турции своей официальной...      4\n",
       "3478  брифинге правительстве глава минсельхоза объяс...      4\n",
       "3479  заседании правительства премьерминистр алихан ...      4\n",
       "\n",
       "[3480 rows x 2 columns]"
      ]
     },
     "execution_count": 15,
     "metadata": {},
     "output_type": "execute_result"
    }
   ],
   "source": [
    "df"
   ]
  },
  {
   "cell_type": "code",
   "execution_count": 26,
   "id": "13942561",
   "metadata": {},
   "outputs": [
    {
     "data": {
      "text/plain": [
       "{'а',\n",
       " 'без',\n",
       " 'более',\n",
       " 'больше',\n",
       " 'будет',\n",
       " 'будто',\n",
       " 'бы',\n",
       " 'был',\n",
       " 'была',\n",
       " 'были',\n",
       " 'было',\n",
       " 'быть',\n",
       " 'в',\n",
       " 'вам',\n",
       " 'вас',\n",
       " 'вдруг',\n",
       " 'ведь',\n",
       " 'во',\n",
       " 'вот',\n",
       " 'впрочем',\n",
       " 'все',\n",
       " 'всегда',\n",
       " 'всего',\n",
       " 'всех',\n",
       " 'всю',\n",
       " 'вы',\n",
       " 'где',\n",
       " 'да',\n",
       " 'даже',\n",
       " 'два',\n",
       " 'для',\n",
       " 'до',\n",
       " 'другой',\n",
       " 'его',\n",
       " 'ее',\n",
       " 'ей',\n",
       " 'ему',\n",
       " 'если',\n",
       " 'есть',\n",
       " 'еще',\n",
       " 'ж',\n",
       " 'же',\n",
       " 'за',\n",
       " 'зачем',\n",
       " 'здесь',\n",
       " 'и',\n",
       " 'из',\n",
       " 'или',\n",
       " 'им',\n",
       " 'иногда',\n",
       " 'их',\n",
       " 'к',\n",
       " 'как',\n",
       " 'какая',\n",
       " 'какой',\n",
       " 'когда',\n",
       " 'конечно',\n",
       " 'кто',\n",
       " 'куда',\n",
       " 'ли',\n",
       " 'лучше',\n",
       " 'между',\n",
       " 'меня',\n",
       " 'мне',\n",
       " 'много',\n",
       " 'может',\n",
       " 'можно',\n",
       " 'мой',\n",
       " 'моя',\n",
       " 'мы',\n",
       " 'на',\n",
       " 'над',\n",
       " 'надо',\n",
       " 'наконец',\n",
       " 'нас',\n",
       " 'не',\n",
       " 'него',\n",
       " 'нее',\n",
       " 'ней',\n",
       " 'нельзя',\n",
       " 'нет',\n",
       " 'ни',\n",
       " 'нибудь',\n",
       " 'никогда',\n",
       " 'ним',\n",
       " 'них',\n",
       " 'ничего',\n",
       " 'но',\n",
       " 'ну',\n",
       " 'о',\n",
       " 'об',\n",
       " 'один',\n",
       " 'он',\n",
       " 'она',\n",
       " 'они',\n",
       " 'опять',\n",
       " 'от',\n",
       " 'перед',\n",
       " 'по',\n",
       " 'под',\n",
       " 'после',\n",
       " 'потом',\n",
       " 'потому',\n",
       " 'почти',\n",
       " 'при',\n",
       " 'про',\n",
       " 'раз',\n",
       " 'разве',\n",
       " 'с',\n",
       " 'сам',\n",
       " 'свою',\n",
       " 'себе',\n",
       " 'себя',\n",
       " 'сейчас',\n",
       " 'со',\n",
       " 'совсем',\n",
       " 'так',\n",
       " 'такой',\n",
       " 'там',\n",
       " 'тебя',\n",
       " 'тем',\n",
       " 'теперь',\n",
       " 'то',\n",
       " 'тогда',\n",
       " 'того',\n",
       " 'тоже',\n",
       " 'только',\n",
       " 'том',\n",
       " 'тот',\n",
       " 'три',\n",
       " 'тут',\n",
       " 'ты',\n",
       " 'у',\n",
       " 'уж',\n",
       " 'уже',\n",
       " 'хорошо',\n",
       " 'хоть',\n",
       " 'чего',\n",
       " 'чем',\n",
       " 'через',\n",
       " 'что',\n",
       " 'чтоб',\n",
       " 'чтобы',\n",
       " 'чуть',\n",
       " 'эти',\n",
       " 'этого',\n",
       " 'этой',\n",
       " 'этом',\n",
       " 'этот',\n",
       " 'эту',\n",
       " 'я'}"
      ]
     },
     "execution_count": 26,
     "metadata": {},
     "output_type": "execute_result"
    }
   ],
   "source": [
    "stop_words = set(stopwords.words('russian'))\n",
    "stop_words"
   ]
  },
  {
   "cell_type": "code",
   "execution_count": 27,
   "id": "789dd711",
   "metadata": {},
   "outputs": [
    {
     "data": {
      "text/plain": [
       "[('года', 4415),\n",
       " ('также', 3869),\n",
       " ('это', 3734),\n",
       " ('году', 2546),\n",
       " ('тенге', 2438),\n",
       " ('сегодня', 2159),\n",
       " ('казахстана', 1739),\n",
       " ('которые', 1672),\n",
       " ('время', 1665),\n",
       " ('алматы', 1649),\n",
       " ('страны', 1586),\n",
       " ('области', 1576),\n",
       " ('рк', 1504),\n",
       " ('казахстане', 1483),\n",
       " ('сша', 1407),\n",
       " ('могут', 1288),\n",
       " ('заявил', 1272),\n",
       " ('передает', 1271),\n",
       " ('сайте', 1240),\n",
       " ('курс', 1237)]"
      ]
     },
     "execution_count": 27,
     "metadata": {},
     "output_type": "execute_result"
    }
   ],
   "source": [
    "from collections import Counter\n",
    "\n",
    "vocab = Counter()\n",
    "for text in df.text:\n",
    "    for word in text.split(' '):\n",
    "        vocab[word] += 1\n",
    "\n",
    "vocab.most_common(20)"
   ]
  },
  {
   "cell_type": "code",
   "execution_count": 28,
   "id": "b888298e",
   "metadata": {},
   "outputs": [
    {
     "data": {
      "text/plain": [
       "'новость'"
      ]
     },
     "execution_count": 28,
     "metadata": {},
     "output_type": "execute_result"
    }
   ],
   "source": [
    "import pymorphy2\n",
    "morph = pymorphy2.MorphAnalyzer()\n",
    "morph.parse('Новости')[0].normal_form"
   ]
  },
  {
   "cell_type": "code",
   "execution_count": 29,
   "id": "1dbc7137",
   "metadata": {},
   "outputs": [],
   "source": [
    "def stemming(text):\n",
    "    morph = pymorphy2.MorphAnalyzer()\n",
    "    return ' '.join([morph.parse(word)[0].normal_form for word in text.split()])"
   ]
  },
  {
   "cell_type": "code",
   "execution_count": 30,
   "id": "92305b88",
   "metadata": {},
   "outputs": [
    {
     "data": {
      "text/html": [
       "<div>\n",
       "<style scoped>\n",
       "    .dataframe tbody tr th:only-of-type {\n",
       "        vertical-align: middle;\n",
       "    }\n",
       "\n",
       "    .dataframe tbody tr th {\n",
       "        vertical-align: top;\n",
       "    }\n",
       "\n",
       "    .dataframe thead th {\n",
       "        text-align: right;\n",
       "    }\n",
       "</style>\n",
       "<table border=\"1\" class=\"dataframe\">\n",
       "  <thead>\n",
       "    <tr style=\"text-align: right;\">\n",
       "      <th></th>\n",
       "      <th>text</th>\n",
       "      <th>label</th>\n",
       "    </tr>\n",
       "  </thead>\n",
       "  <tbody>\n",
       "    <tr>\n",
       "      <th>0</th>\n",
       "      <td>консульство словацкой республики открыли алмат...</td>\n",
       "      <td>1</td>\n",
       "    </tr>\n",
       "    <tr>\n",
       "      <th>1</th>\n",
       "      <td>отгрузка казахстанской нефти началась турецког...</td>\n",
       "      <td>1</td>\n",
       "    </tr>\n",
       "    <tr>\n",
       "      <th>2</th>\n",
       "      <td>главы государств международных организаций нап...</td>\n",
       "      <td>1</td>\n",
       "    </tr>\n",
       "    <tr>\n",
       "      <th>3</th>\n",
       "      <td>вопросы привлечения отечественных производител...</td>\n",
       "      <td>1</td>\n",
       "    </tr>\n",
       "    <tr>\n",
       "      <th>4</th>\n",
       "      <td>согласно итогам дневных торгов казахстанской ф...</td>\n",
       "      <td>1</td>\n",
       "    </tr>\n",
       "  </tbody>\n",
       "</table>\n",
       "</div>"
      ],
      "text/plain": [
       "                                                text  label\n",
       "0  консульство словацкой республики открыли алмат...      1\n",
       "1  отгрузка казахстанской нефти началась турецког...      1\n",
       "2  главы государств международных организаций нап...      1\n",
       "3  вопросы привлечения отечественных производител...      1\n",
       "4  согласно итогам дневных торгов казахстанской ф...      1"
      ]
     },
     "execution_count": 30,
     "metadata": {},
     "output_type": "execute_result"
    }
   ],
   "source": [
    "df.head()"
   ]
  },
  {
   "cell_type": "code",
   "execution_count": 34,
   "id": "941f466f",
   "metadata": {},
   "outputs": [],
   "source": [
    "from sklearn.base import BaseEstimator, TransformerMixin\n",
    "class CustomTextPrep(BaseEstimator, TransformerMixin):\n",
    "    \"\"\"My custom description\n",
    "    Args:\n",
    "        delete_stopwords (bool): True if I want to delete most popular russian words \n",
    "    Returns:\n",
    "\n",
    "    \"\"\"\n",
    "    def __init__(self, delete_stopwords=True):\n",
    "        self.delete_stopwords = delete_stopwords\n",
    "    \n",
    "    def fit(self, X, y=None):\n",
    "        return self\n",
    "    \n",
    "    def transform(self, X: pd.DataFrame, y=None) -> pd.DataFrame:\n",
    "        def text_clean(text):        \n",
    "            text = text.lower() \n",
    "            text = re.sub('https?://\\S+|www\\.\\S+', '', text) \n",
    "            text = re.sub(r\"\\b\\d+\\b\", \"\", text) \n",
    "            text = re.sub('<.*?>+', '', text) \n",
    "            text = re.sub('[%s]' % re.escape(string.punctuation), '', text) \n",
    "            text = re.sub('\\n', '', text)\n",
    "            text = re.sub('[’“”…]', '', text)\n",
    "\n",
    "            return text\n",
    "\n",
    "        def delete_stopwords(text):\n",
    "            stop_words = set(stopwords.words('russian'))\n",
    "            return ' '.join([word for word in text.split() if word not in (stop_words) and word not in ('также', \"это\", \"которые\")])\n",
    "        def stemming(text):\n",
    "            morph = pymorphy2.MorphAnalyzer()\n",
    "            return ' '.join([morph.parse(word)[0].normal_form for word in text.split()])\n",
    "\n",
    "        X_copy = X.copy()\n",
    "        X_copy = X_copy.apply(lambda text: text_clean(str(text)))\n",
    "        if delete_stopwords:\n",
    "            X_copy= X_copy.apply(lambda text: delete_stopwords(str(text)))\n",
    "        \n",
    "        X_copy = X_copy.apply(lambda text: stemming(str(text)))\n",
    "        \n",
    "        return X_copy"
   ]
  },
  {
   "cell_type": "code",
   "execution_count": 35,
   "id": "373e9c72",
   "metadata": {},
   "outputs": [
    {
     "data": {
      "text/html": [
       "<style>#sk-container-id-1 {color: black;background-color: white;}#sk-container-id-1 pre{padding: 0;}#sk-container-id-1 div.sk-toggleable {background-color: white;}#sk-container-id-1 label.sk-toggleable__label {cursor: pointer;display: block;width: 100%;margin-bottom: 0;padding: 0.3em;box-sizing: border-box;text-align: center;}#sk-container-id-1 label.sk-toggleable__label-arrow:before {content: \"▸\";float: left;margin-right: 0.25em;color: #696969;}#sk-container-id-1 label.sk-toggleable__label-arrow:hover:before {color: black;}#sk-container-id-1 div.sk-estimator:hover label.sk-toggleable__label-arrow:before {color: black;}#sk-container-id-1 div.sk-toggleable__content {max-height: 0;max-width: 0;overflow: hidden;text-align: left;background-color: #f0f8ff;}#sk-container-id-1 div.sk-toggleable__content pre {margin: 0.2em;color: black;border-radius: 0.25em;background-color: #f0f8ff;}#sk-container-id-1 input.sk-toggleable__control:checked~div.sk-toggleable__content {max-height: 200px;max-width: 100%;overflow: auto;}#sk-container-id-1 input.sk-toggleable__control:checked~label.sk-toggleable__label-arrow:before {content: \"▾\";}#sk-container-id-1 div.sk-estimator input.sk-toggleable__control:checked~label.sk-toggleable__label {background-color: #d4ebff;}#sk-container-id-1 div.sk-label input.sk-toggleable__control:checked~label.sk-toggleable__label {background-color: #d4ebff;}#sk-container-id-1 input.sk-hidden--visually {border: 0;clip: rect(1px 1px 1px 1px);clip: rect(1px, 1px, 1px, 1px);height: 1px;margin: -1px;overflow: hidden;padding: 0;position: absolute;width: 1px;}#sk-container-id-1 div.sk-estimator {font-family: monospace;background-color: #f0f8ff;border: 1px dotted black;border-radius: 0.25em;box-sizing: border-box;margin-bottom: 0.5em;}#sk-container-id-1 div.sk-estimator:hover {background-color: #d4ebff;}#sk-container-id-1 div.sk-parallel-item::after {content: \"\";width: 100%;border-bottom: 1px solid gray;flex-grow: 1;}#sk-container-id-1 div.sk-label:hover label.sk-toggleable__label {background-color: #d4ebff;}#sk-container-id-1 div.sk-serial::before {content: \"\";position: absolute;border-left: 1px solid gray;box-sizing: border-box;top: 0;bottom: 0;left: 50%;z-index: 0;}#sk-container-id-1 div.sk-serial {display: flex;flex-direction: column;align-items: center;background-color: white;padding-right: 0.2em;padding-left: 0.2em;position: relative;}#sk-container-id-1 div.sk-item {position: relative;z-index: 1;}#sk-container-id-1 div.sk-parallel {display: flex;align-items: stretch;justify-content: center;background-color: white;position: relative;}#sk-container-id-1 div.sk-item::before, #sk-container-id-1 div.sk-parallel-item::before {content: \"\";position: absolute;border-left: 1px solid gray;box-sizing: border-box;top: 0;bottom: 0;left: 50%;z-index: -1;}#sk-container-id-1 div.sk-parallel-item {display: flex;flex-direction: column;z-index: 1;position: relative;background-color: white;}#sk-container-id-1 div.sk-parallel-item:first-child::after {align-self: flex-end;width: 50%;}#sk-container-id-1 div.sk-parallel-item:last-child::after {align-self: flex-start;width: 50%;}#sk-container-id-1 div.sk-parallel-item:only-child::after {width: 0;}#sk-container-id-1 div.sk-dashed-wrapped {border: 1px dashed gray;margin: 0 0.4em 0.5em 0.4em;box-sizing: border-box;padding-bottom: 0.4em;background-color: white;}#sk-container-id-1 div.sk-label label {font-family: monospace;font-weight: bold;display: inline-block;line-height: 1.2em;}#sk-container-id-1 div.sk-label-container {text-align: center;}#sk-container-id-1 div.sk-container {/* jupyter's `normalize.less` sets `[hidden] { display: none; }` but bootstrap.min.css set `[hidden] { display: none !important; }` so we also need the `!important` here to be able to override the default hidden behavior on the sphinx rendered scikit-learn.org. See: https://github.com/scikit-learn/scikit-learn/issues/21755 */display: inline-block !important;position: relative;}#sk-container-id-1 div.sk-text-repr-fallback {display: none;}</style><div id=\"sk-container-id-1\" class=\"sk-top-container\"><div class=\"sk-text-repr-fallback\"><pre>Pipeline(steps=[(&#x27;transformer&#x27;, CustomTextPrep()), (&#x27;vect&#x27;, CountVectorizer()),\n",
       "                (&#x27;tfidf&#x27;, TfidfTransformer()), (&#x27;sgd&#x27;, SGDClassifier())])</pre><b>In a Jupyter environment, please rerun this cell to show the HTML representation or trust the notebook. <br />On GitHub, the HTML representation is unable to render, please try loading this page with nbviewer.org.</b></div><div class=\"sk-container\" hidden><div class=\"sk-item sk-dashed-wrapped\"><div class=\"sk-label-container\"><div class=\"sk-label sk-toggleable\"><input class=\"sk-toggleable__control sk-hidden--visually\" id=\"sk-estimator-id-1\" type=\"checkbox\" ><label for=\"sk-estimator-id-1\" class=\"sk-toggleable__label sk-toggleable__label-arrow\">Pipeline</label><div class=\"sk-toggleable__content\"><pre>Pipeline(steps=[(&#x27;transformer&#x27;, CustomTextPrep()), (&#x27;vect&#x27;, CountVectorizer()),\n",
       "                (&#x27;tfidf&#x27;, TfidfTransformer()), (&#x27;sgd&#x27;, SGDClassifier())])</pre></div></div></div><div class=\"sk-serial\"><div class=\"sk-item\"><div class=\"sk-estimator sk-toggleable\"><input class=\"sk-toggleable__control sk-hidden--visually\" id=\"sk-estimator-id-2\" type=\"checkbox\" ><label for=\"sk-estimator-id-2\" class=\"sk-toggleable__label sk-toggleable__label-arrow\">CustomTextPrep</label><div class=\"sk-toggleable__content\"><pre>CustomTextPrep()</pre></div></div></div><div class=\"sk-item\"><div class=\"sk-estimator sk-toggleable\"><input class=\"sk-toggleable__control sk-hidden--visually\" id=\"sk-estimator-id-3\" type=\"checkbox\" ><label for=\"sk-estimator-id-3\" class=\"sk-toggleable__label sk-toggleable__label-arrow\">CountVectorizer</label><div class=\"sk-toggleable__content\"><pre>CountVectorizer()</pre></div></div></div><div class=\"sk-item\"><div class=\"sk-estimator sk-toggleable\"><input class=\"sk-toggleable__control sk-hidden--visually\" id=\"sk-estimator-id-4\" type=\"checkbox\" ><label for=\"sk-estimator-id-4\" class=\"sk-toggleable__label sk-toggleable__label-arrow\">TfidfTransformer</label><div class=\"sk-toggleable__content\"><pre>TfidfTransformer()</pre></div></div></div><div class=\"sk-item\"><div class=\"sk-estimator sk-toggleable\"><input class=\"sk-toggleable__control sk-hidden--visually\" id=\"sk-estimator-id-5\" type=\"checkbox\" ><label for=\"sk-estimator-id-5\" class=\"sk-toggleable__label sk-toggleable__label-arrow\">SGDClassifier</label><div class=\"sk-toggleable__content\"><pre>SGDClassifier()</pre></div></div></div></div></div></div></div>"
      ],
      "text/plain": [
       "Pipeline(steps=[('transformer', CustomTextPrep()), ('vect', CountVectorizer()),\n",
       "                ('tfidf', TfidfTransformer()), ('sgd', SGDClassifier())])"
      ]
     },
     "execution_count": 35,
     "metadata": {},
     "output_type": "execute_result"
    }
   ],
   "source": [
    "from sklearn.pipeline import Pipeline\n",
    "from sklearn.feature_extraction.text import CountVectorizer, TfidfVectorizer\n",
    "from sklearn.svm import LinearSVC, SVC\n",
    "from sklearn.linear_model import SGDClassifier\n",
    "from sklearn.feature_extraction.text import TfidfTransformer\n",
    "\n",
    "from sklearn.model_selection import train_test_split\n",
    "x_train, x_test, y_train, y_test = train_test_split(df['text'], df['label'],test_size=0.20,random_state=42,shuffle=True)\n",
    "\n",
    "sgd_pipeline = Pipeline(steps=[\n",
    "    ('transformer',CustomTextPrep()),\n",
    "    ('vect', CountVectorizer()),\n",
    "    ('tfidf', TfidfTransformer()),\n",
    "    ('sgd', SGDClassifier()),\n",
    "\n",
    "])\n",
    "\n",
    "\n",
    "sgd_pipeline.fit(x_train, y_train)"
   ]
  },
  {
   "cell_type": "code",
   "execution_count": 36,
   "id": "624810df",
   "metadata": {},
   "outputs": [
    {
     "data": {
      "text/plain": [
       "0.9137931034482759"
      ]
     },
     "execution_count": 36,
     "metadata": {},
     "output_type": "execute_result"
    }
   ],
   "source": [
    "from sklearn import metrics\n",
    "\n",
    "score = metrics.accuracy_score(sgd_pipeline.predict(x_test), y_test)\n",
    "score"
   ]
  },
  {
   "cell_type": "code",
   "execution_count": 29,
   "id": "a9d736f1",
   "metadata": {},
   "outputs": [
    {
     "data": {
      "text/html": [
       "<style>#sk-container-id-4 {color: black;background-color: white;}#sk-container-id-4 pre{padding: 0;}#sk-container-id-4 div.sk-toggleable {background-color: white;}#sk-container-id-4 label.sk-toggleable__label {cursor: pointer;display: block;width: 100%;margin-bottom: 0;padding: 0.3em;box-sizing: border-box;text-align: center;}#sk-container-id-4 label.sk-toggleable__label-arrow:before {content: \"▸\";float: left;margin-right: 0.25em;color: #696969;}#sk-container-id-4 label.sk-toggleable__label-arrow:hover:before {color: black;}#sk-container-id-4 div.sk-estimator:hover label.sk-toggleable__label-arrow:before {color: black;}#sk-container-id-4 div.sk-toggleable__content {max-height: 0;max-width: 0;overflow: hidden;text-align: left;background-color: #f0f8ff;}#sk-container-id-4 div.sk-toggleable__content pre {margin: 0.2em;color: black;border-radius: 0.25em;background-color: #f0f8ff;}#sk-container-id-4 input.sk-toggleable__control:checked~div.sk-toggleable__content {max-height: 200px;max-width: 100%;overflow: auto;}#sk-container-id-4 input.sk-toggleable__control:checked~label.sk-toggleable__label-arrow:before {content: \"▾\";}#sk-container-id-4 div.sk-estimator input.sk-toggleable__control:checked~label.sk-toggleable__label {background-color: #d4ebff;}#sk-container-id-4 div.sk-label input.sk-toggleable__control:checked~label.sk-toggleable__label {background-color: #d4ebff;}#sk-container-id-4 input.sk-hidden--visually {border: 0;clip: rect(1px 1px 1px 1px);clip: rect(1px, 1px, 1px, 1px);height: 1px;margin: -1px;overflow: hidden;padding: 0;position: absolute;width: 1px;}#sk-container-id-4 div.sk-estimator {font-family: monospace;background-color: #f0f8ff;border: 1px dotted black;border-radius: 0.25em;box-sizing: border-box;margin-bottom: 0.5em;}#sk-container-id-4 div.sk-estimator:hover {background-color: #d4ebff;}#sk-container-id-4 div.sk-parallel-item::after {content: \"\";width: 100%;border-bottom: 1px solid gray;flex-grow: 1;}#sk-container-id-4 div.sk-label:hover label.sk-toggleable__label {background-color: #d4ebff;}#sk-container-id-4 div.sk-serial::before {content: \"\";position: absolute;border-left: 1px solid gray;box-sizing: border-box;top: 0;bottom: 0;left: 50%;z-index: 0;}#sk-container-id-4 div.sk-serial {display: flex;flex-direction: column;align-items: center;background-color: white;padding-right: 0.2em;padding-left: 0.2em;position: relative;}#sk-container-id-4 div.sk-item {position: relative;z-index: 1;}#sk-container-id-4 div.sk-parallel {display: flex;align-items: stretch;justify-content: center;background-color: white;position: relative;}#sk-container-id-4 div.sk-item::before, #sk-container-id-4 div.sk-parallel-item::before {content: \"\";position: absolute;border-left: 1px solid gray;box-sizing: border-box;top: 0;bottom: 0;left: 50%;z-index: -1;}#sk-container-id-4 div.sk-parallel-item {display: flex;flex-direction: column;z-index: 1;position: relative;background-color: white;}#sk-container-id-4 div.sk-parallel-item:first-child::after {align-self: flex-end;width: 50%;}#sk-container-id-4 div.sk-parallel-item:last-child::after {align-self: flex-start;width: 50%;}#sk-container-id-4 div.sk-parallel-item:only-child::after {width: 0;}#sk-container-id-4 div.sk-dashed-wrapped {border: 1px dashed gray;margin: 0 0.4em 0.5em 0.4em;box-sizing: border-box;padding-bottom: 0.4em;background-color: white;}#sk-container-id-4 div.sk-label label {font-family: monospace;font-weight: bold;display: inline-block;line-height: 1.2em;}#sk-container-id-4 div.sk-label-container {text-align: center;}#sk-container-id-4 div.sk-container {/* jupyter's `normalize.less` sets `[hidden] { display: none; }` but bootstrap.min.css set `[hidden] { display: none !important; }` so we also need the `!important` here to be able to override the default hidden behavior on the sphinx rendered scikit-learn.org. See: https://github.com/scikit-learn/scikit-learn/issues/21755 */display: inline-block !important;position: relative;}#sk-container-id-4 div.sk-text-repr-fallback {display: none;}</style><div id=\"sk-container-id-4\" class=\"sk-top-container\"><div class=\"sk-text-repr-fallback\"><pre>Pipeline(steps=[(&#x27;vect&#x27;, CountVectorizer()), (&#x27;tfidf&#x27;, TfidfTransformer()),\n",
       "                (&#x27;sgd&#x27;, SGDClassifier())])</pre><b>In a Jupyter environment, please rerun this cell to show the HTML representation or trust the notebook. <br />On GitHub, the HTML representation is unable to render, please try loading this page with nbviewer.org.</b></div><div class=\"sk-container\" hidden><div class=\"sk-item sk-dashed-wrapped\"><div class=\"sk-label-container\"><div class=\"sk-label sk-toggleable\"><input class=\"sk-toggleable__control sk-hidden--visually\" id=\"sk-estimator-id-15\" type=\"checkbox\" ><label for=\"sk-estimator-id-15\" class=\"sk-toggleable__label sk-toggleable__label-arrow\">Pipeline</label><div class=\"sk-toggleable__content\"><pre>Pipeline(steps=[(&#x27;vect&#x27;, CountVectorizer()), (&#x27;tfidf&#x27;, TfidfTransformer()),\n",
       "                (&#x27;sgd&#x27;, SGDClassifier())])</pre></div></div></div><div class=\"sk-serial\"><div class=\"sk-item\"><div class=\"sk-estimator sk-toggleable\"><input class=\"sk-toggleable__control sk-hidden--visually\" id=\"sk-estimator-id-16\" type=\"checkbox\" ><label for=\"sk-estimator-id-16\" class=\"sk-toggleable__label sk-toggleable__label-arrow\">CountVectorizer</label><div class=\"sk-toggleable__content\"><pre>CountVectorizer()</pre></div></div></div><div class=\"sk-item\"><div class=\"sk-estimator sk-toggleable\"><input class=\"sk-toggleable__control sk-hidden--visually\" id=\"sk-estimator-id-17\" type=\"checkbox\" ><label for=\"sk-estimator-id-17\" class=\"sk-toggleable__label sk-toggleable__label-arrow\">TfidfTransformer</label><div class=\"sk-toggleable__content\"><pre>TfidfTransformer()</pre></div></div></div><div class=\"sk-item\"><div class=\"sk-estimator sk-toggleable\"><input class=\"sk-toggleable__control sk-hidden--visually\" id=\"sk-estimator-id-18\" type=\"checkbox\" ><label for=\"sk-estimator-id-18\" class=\"sk-toggleable__label sk-toggleable__label-arrow\">SGDClassifier</label><div class=\"sk-toggleable__content\"><pre>SGDClassifier()</pre></div></div></div></div></div></div></div>"
      ],
      "text/plain": [
       "Pipeline(steps=[('vect', CountVectorizer()), ('tfidf', TfidfTransformer()),\n",
       "                ('sgd', SGDClassifier())])"
      ]
     },
     "execution_count": 29,
     "metadata": {},
     "output_type": "execute_result"
    }
   ],
   "source": [
    "sgd_pipeline_1 = Pipeline(steps=[\n",
    "    ('vect', CountVectorizer()),\n",
    "    ('tfidf', TfidfTransformer()),\n",
    "    ('sgd', SGDClassifier()),\n",
    "\n",
    "])\n",
    "\n",
    "\n",
    "sgd_pipeline_1.fit(x_train, y_train)"
   ]
  },
  {
   "cell_type": "code",
   "execution_count": 30,
   "id": "57008a83",
   "metadata": {},
   "outputs": [
    {
     "data": {
      "text/plain": [
       "0.9252873563218391"
      ]
     },
     "execution_count": 30,
     "metadata": {},
     "output_type": "execute_result"
    }
   ],
   "source": [
    "score_1 = metrics.accuracy_score(sgd_pipeline_1.predict(x_test), y_test)\n",
    "score_1"
   ]
  },
  {
   "cell_type": "code",
   "execution_count": 32,
   "id": "44465f96",
   "metadata": {},
   "outputs": [],
   "source": [
    "import joblib\n",
    "\n",
    "filename = \"nlp-model-ru.joblib\"\n",
    "\n",
    "# save model\n",
    "joblib.dump(sgd_pipeline_1, filename)\n",
    "\n",
    "# load model\n",
    "loaded_model = joblib.load(filename)"
   ]
  },
  {
   "cell_type": "code",
   "execution_count": 33,
   "id": "d2cfdf73",
   "metadata": {},
   "outputs": [],
   "source": [
    "example_text = 'Просрочки по кредитам являются проблемой не только для клиентов банка, которым грозит блокировка счетов и штрафные санкции, но и для самих финансовых организаций. Наличие «плохих» кредитов негативно сказывается на качестве портфеля банка. Поэтому каждый банк стремится снизить объем «плохих» кредитов в своем портфеле. Так, по состоянию на 1 апреля 2023 года, сумма кредитов с просрочкой в банках второго уровня Казахстана составила 1,1 трлн тенге. Это на 7,4% больше, чем месяцем ранее. При этом количество «плохих» займов, оплату по которым просрочили на 90 дней и больше (NPL 90+), тоже увеличилось. Их количество в стране выросло на 2,5%, общая сумма составила 847,4 млрд тенге. Ссудный портфель банков второго уровня Казахстана при этом увеличился на 1,4% за месяц (до 24,6 трлн тенге), отмечается в статье. Таблица: finprom.kz Что касается доли займов с просрочкой свыше 30 дней, их доля среди общего объема кредитов в банках второго уровня Казахстана составила 4,6% (против 4,3% месяцем ранее). Доля NPL 90+, в свою очередь, составила 3,4% (показатель увеличился на 0,03 процентных пункта за месяц). При этом нарастить свой ссудный портфель за последний месяц смогли лишь шесть банков из топовой десятки банков второго уровня страны. Всего в данном секторе задействованы 13 БВУ. Из всей десятки крупнейших банков-кредиторов страны, уменьшить общий объем кредитов с просрочкой более 30 дней удалось лишь одной финансовой организации. Это Jusan Bank. Таковых кредитов в банке стало меньше на 2,8%. Общая сумма сократилась до 142 млрд тенге по итогам марта 2023 года, поделились аналитики. Читайте больше: https://www.nur.kz/nurfin/banks/2021305-kakim-bankam-kazahstana-udalos-sokratit-obem-plohih-kreditov-s-dolgoy-prosrochkoy/'"
   ]
  },
  {
   "cell_type": "code",
   "execution_count": 34,
   "id": "2f57c160",
   "metadata": {},
   "outputs": [
    {
     "data": {
      "text/plain": [
       "array([2], dtype=int64)"
      ]
     },
     "execution_count": 34,
     "metadata": {},
     "output_type": "execute_result"
    }
   ],
   "source": [
    "sgd_pipeline_1.predict(pd.Series([example_text]))\n",
    "#finance case"
   ]
  },
  {
   "cell_type": "code",
   "execution_count": null,
   "id": "2204edc5",
   "metadata": {},
   "outputs": [],
   "source": []
  }
 ],
 "metadata": {
  "kernelspec": {
   "display_name": "Python 3 (ipykernel)",
   "language": "python",
   "name": "python3"
  },
  "language_info": {
   "codemirror_mode": {
    "name": "ipython",
    "version": 3
   },
   "file_extension": ".py",
   "mimetype": "text/x-python",
   "name": "python",
   "nbconvert_exporter": "python",
   "pygments_lexer": "ipython3",
   "version": "3.9.13"
  }
 },
 "nbformat": 4,
 "nbformat_minor": 5
}
